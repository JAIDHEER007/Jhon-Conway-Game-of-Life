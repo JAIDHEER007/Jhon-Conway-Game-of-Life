{
  "nbformat": 4,
  "nbformat_minor": 0,
  "metadata": {
    "colab": {
      "name": "GOL1.ipynb",
      "provenance": [],
      "authorship_tag": "ABX9TyPVOH/KaCE/+P1Ewu+xt7vY",
      "include_colab_link": true
    },
    "kernelspec": {
      "name": "python3",
      "display_name": "Python 3"
    },
    "language_info": {
      "name": "python"
    }
  },
  "cells": [
    {
      "cell_type": "markdown",
      "metadata": {
        "id": "view-in-github",
        "colab_type": "text"
      },
      "source": [
        "<a href=\"https://colab.research.google.com/github/JAIDHEER007/Jhon-Conway-Game-of-Life/blob/main/Python%20Implementation/GOL_JSON_INFO.ipynb\" target=\"_parent\"><img src=\"https://colab.research.google.com/assets/colab-badge.svg\" alt=\"Open In Colab\"/></a>"
      ]
    },
    {
      "cell_type": "code",
      "execution_count": 1,
      "metadata": {
        "id": "nXsVOev7x8dx"
      },
      "outputs": [],
      "source": [
        "import numpy as np\n",
        "from PIL import Image\n",
        "from time import perf_counter\n",
        "import os\n",
        "from os.path import join\n",
        "import datetime\n",
        "import cv2\n",
        "import re\n",
        "import shutil\n",
        "import json"
      ]
    },
    {
      "cell_type": "code",
      "source": [
        "def createFolder(generations, fps, grid) -> str:\n",
        "    # Current Working Directory\n",
        "    pdir = os.getcwd()\n",
        "    \n",
        "    #Getting Current Time\n",
        "    curr = datetime.datetime.now()\n",
        "    dateStr = str(curr.date())\n",
        "    timeStr = str(curr.time())\n",
        "\n",
        "    #Folder name\n",
        "    directory = \"GOL_RUN_\" + dateStr.replace('-','_') + \"_\" + timeStr.replace(':', '_')\n",
        "    \n",
        "    #Final Path\n",
        "    fpath = join(pdir, directory)\n",
        "    \n",
        "    #Creating the directory\n",
        "    os.mkdir(fpath)\n",
        "    \n",
        "    # Creating the Images SubFolder\n",
        "    imgPath = join(fpath, 'Images')\n",
        "    os.mkdir(imgPath)\n",
        "    \n",
        "    # Writing usefull files\n",
        "    \n",
        "    # Saving the inital grid state\n",
        "    np.savetxt(fname = join(fpath, 'initalState.csv'), X = grid, delimiter = ',', fmt = '%d')\n",
        "    \n",
        "    info = {\n",
        "        \"author\": \"S. Jaidheer\", \n",
        "        \"github\": \"JAIDHEER007\", \n",
        "        \"date\": None, \n",
        "        \"time\": None, \n",
        "        \"data\": {\n",
        "            \"game\": {\n",
        "                \"rows\": 0, \n",
        "                \"cols\": 0, \n",
        "                \"generations\": 0, \n",
        "                \"fps\": 0\n",
        "            }, \n",
        "            \"file\": {}\n",
        "        }\n",
        "    }\n",
        "\n",
        "    info[\"date\"] = dateStr\n",
        "    info[\"time\"] = timeStr\n",
        "    info[\"data\"][\"game\"][\"rows\"] = grid.shape[0]\n",
        "    info[\"data\"][\"game\"][\"cols\"] = grid.shape[0]\n",
        "    info[\"data\"][\"game\"][\"generations\"] = generations\n",
        "    info[\"data\"][\"game\"][\"fps\"] = fps\n",
        "           \n",
        "    with open(join(fpath, 'info.json'), 'w') as fileHandle:\n",
        "        json.dump(info, fileHandle)\n",
        "           \n",
        "    return fpath"
      ],
      "metadata": {
        "id": "e4KmkiqgbIZX"
      },
      "execution_count": 2,
      "outputs": []
    },
    {
      "cell_type": "code",
      "source": [
        "class gol:\n",
        "    def isValid(i:int, j:int, rows:int, cols:int) -> bool:\n",
        "        return (i >= 0) and (i < rows) and (j >= 0) and (j < cols)\n",
        "    \n",
        "    def rules(lives:int, currState:bool) -> bool:\n",
        "        if currState:\n",
        "            if lives > 3 or lives < 2:\n",
        "                return False\n",
        "            else: return True  \n",
        "        return (lives == 3)\n",
        "    \n",
        "    def generationUpdate(grid):\n",
        "        rows, cols = grid.shape\n",
        "        # print(rows, cols)\n",
        "        nextGeneration = np.zeros((rows, cols), dtype = bool)\n",
        "        for i in range(rows):\n",
        "            for j in range(cols):\n",
        "\n",
        "                # Finding the Live Neighbours\n",
        "                lives = 0\n",
        "                for m in [-1, 0, 1]:\n",
        "                    for n in [-1, 0, 1]:\n",
        "                        if m == 0 and n == 0: continue\n",
        "                        lives += int(grid[(((i + m) + rows) % rows), (((j + n) + cols) % cols)]);\n",
        "                            \n",
        "                nextGeneration[i, j] = gol.rules(lives, grid[i, j])\n",
        "\n",
        "        return nextGeneration\n",
        "        \n",
        "    def __init__(self, startGrid, generations, fps = 35):\n",
        "        self.__rows, self.__cols = startGrid.shape \n",
        "        self.__generations = generations\n",
        "        self.__fps = fps\n",
        "        self.__grid = startGrid\n",
        "\n",
        "        #Folder Path\n",
        "        self.__fpath = createFolder(generations = self.__generations, \n",
        "                                    fps = self.__fps, \n",
        "                                    grid = self.__grid)\n",
        "    \n",
        "    def start(self):\n",
        "        if self.__rows > 200 or self.__cols > 200:\n",
        "            raise Exception(\"Grid Limit Reached\")\n",
        "        \n",
        "        imgPath = join(self.__fpath, 'Images')\n",
        "        for generation in range(self.__generations):\n",
        "            img = Image.fromarray(self.__grid)\n",
        "            img = img.resize((self.__rows * 10, self.__cols * 10))\n",
        "            img.save(join(imgPath, 'Img{generationCount}.png'.format(generationCount = generation)))\n",
        "            self.__grid = gol.generationUpdate(self.__grid)\n",
        "        \n",
        "    def saveVideo(self):\n",
        "        imgPath = join(self.__fpath, 'Images')\n",
        "\n",
        "        if not os.path.exists(imgPath):\n",
        "            raise Exception(\"Call start Method to create images\")\n",
        "        \n",
        "        video_name = join(self.__fpath, \"Output.mp4\")\n",
        "\n",
        "        images = [img for img in os.listdir(imgPath) if img.endswith(\".png\")]\n",
        "\n",
        "        if len(images) == 0: \n",
        "            raise Exception(\"No Images were created. Call start() method\")\n",
        "\n",
        "        pattern = re.compile(r'[0-9]+')\n",
        "        images.sort(key = lambda image: int(pattern.findall(image)[-1]))\n",
        "\n",
        "        frame = cv2.imread(os.path.join(imgPath, images[0]))\n",
        "\n",
        "        height, width = frame.shape[:2]\n",
        "\n",
        "        fourcc = cv2.VideoWriter_fourcc(*'mp4v')\n",
        "        video = cv2.VideoWriter(video_name, fourcc, 35, (width, height)) \n",
        "\n",
        "        for image in images:\n",
        "            video.write(cv2.imread(os.path.join(imgPath, image)))\n",
        "\n",
        "        cv2.destroyAllWindows() \n",
        "        video.release()\n",
        "\n",
        "    def deleteFolder(self):\n",
        "        shutil.rmtree(self.__fpath)\n"
      ],
      "metadata": {
        "id": "i3hdUrQJWnrl"
      },
      "execution_count": 3,
      "outputs": []
    },
    {
      "cell_type": "code",
      "source": [
        "if __name__ == '__main__':\n",
        "    rows = 175\n",
        "    cols = 175\n",
        "    \n",
        "    grid = np.random.choice(a = [True, False], size = (rows, cols))\n",
        "    \n",
        "    gol1 = gol(startGrid = grid, generations = 100)"
      ],
      "metadata": {
        "id": "H3enxfmDW0OS"
      },
      "execution_count": 4,
      "outputs": []
    },
    {
      "cell_type": "code",
      "source": [
        "gol1.start()\n",
        "gol1.saveVideo()"
      ],
      "metadata": {
        "id": "Y75Vyl1gjrUb"
      },
      "execution_count": 5,
      "outputs": []
    }
  ]
}